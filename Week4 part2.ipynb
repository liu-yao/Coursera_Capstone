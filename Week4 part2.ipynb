{
 "cells": [
  {
   "cell_type": "markdown",
   "metadata": {
    "collapsed": true
   },
   "source": [
    "Question 2\n",
    " \n",
    "Describe the data that you will be using to solve the problem or execute your idea. Remember that you will need to use the Foursquare location data to solve the problem or execute your idea. You can absolutely use other datasets in combination with the Foursquare location data. So make sure that you provide adequate explanation and discussion, with examples, of the data that you will be using, even if it is only Foursquare location data.\n",
    "\n",
    "This submission will eventually become your Data section in your final report. So I recommend that you push the report (having your Data section) to your Github repository and submit a link to it."
   ]
  },
  {
   "cell_type": "markdown",
   "metadata": {},
   "source": [
    "Answer 2\n",
    "\n",
    "I will use Foursquare location date only. Currently Foursquare's location data is the most comprehensive out there, and quite accurate that it powers location data for many popular services.\n",
    "\n",
    "Foursquare places API is my first choice. This API will be utilised to enable location discovery. In my case, it will help to find out the libraries in Singapore. For example, I will use the Search endpoint to make calls to the Foursquare API to search for libraries in Singapore, and learn more about particular libraries. And then, I will continue use the Explore endpoint to retrieve data from the Foursquare database, and use the API to explore a location and to get trending venues around all libraries in Singapore.\n",
    "\n",
    "Based on the above data, I will use data analysis, data visualisation and machine learning techniques to solve the problem mentioned in Introduction/Business Problem section."
   ]
  },
  {
   "cell_type": "code",
   "execution_count": null,
   "metadata": {},
   "outputs": [],
   "source": []
  }
 ],
 "metadata": {
  "kernelspec": {
   "display_name": "Python 3.6",
   "language": "python",
   "name": "python3"
  },
  "language_info": {
   "codemirror_mode": {
    "name": "ipython",
    "version": 3
   },
   "file_extension": ".py",
   "mimetype": "text/x-python",
   "name": "python",
   "nbconvert_exporter": "python",
   "pygments_lexer": "ipython3",
   "version": "3.6.8"
  }
 },
 "nbformat": 4,
 "nbformat_minor": 1
}
