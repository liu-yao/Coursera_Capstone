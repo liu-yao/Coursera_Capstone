{
 "cells": [
  {
   "cell_type": "markdown",
   "metadata": {
    "collapsed": true
   },
   "source": [
    "Question 1\n",
    "\n",
    "Clearly define a problem or an idea of your choice, where you would need to leverage the Foursquare location data to solve or execute. Remember that data science problems always target an audience and are meant to help a group of stakeholders solve a problem, so make sure that you explicitly describe your audience and why they would care about your problem.\n",
    "\n",
    "This submission will eventually become your Introduction/Business Problem section in your final report. So I recommend that you push the report (having your Introduction/Business Problem section only for now) to your Github repository and submit a link to it."
   ]
  },
  {
   "cell_type": "markdown",
   "metadata": {},
   "source": [
    "Answer 1\n",
    "\n",
    "My idea is to use the Foursquare location data to find out the library location distribution in Singapore. As library is a essential place to save and share human’s knowledge, it is import that citizens has the easy access to public libraries. However, even advanced cities like Singapore cannot guarantee that there are enough libraries for its citizens. I will apply the Foursquare location data to understand current library distribution in Singapore, and find out which areas are lack of libraries for all neighbourhoods. \n",
    "\n",
    "The targeted audiences both includes the government of Singapore, such as Ministry of Education and Ministry of Cultural and Communication Affairs, as well as library readers. The government and library readers are the groups of stakeholders. After my analysis, the government can recognise which areas need to build more libraries, and the readers can have easy access to the newly built libraries with a few minutes walk in their neighbourhoods."
   ]
  },
  {
   "cell_type": "code",
   "execution_count": null,
   "metadata": {},
   "outputs": [],
   "source": []
  }
 ],
 "metadata": {
  "kernelspec": {
   "display_name": "Python 3.6",
   "language": "python",
   "name": "python3"
  },
  "language_info": {
   "codemirror_mode": {
    "name": "ipython",
    "version": 3
   },
   "file_extension": ".py",
   "mimetype": "text/x-python",
   "name": "python",
   "nbconvert_exporter": "python",
   "pygments_lexer": "ipython3",
   "version": "3.6.8"
  }
 },
 "nbformat": 4,
 "nbformat_minor": 1
}
